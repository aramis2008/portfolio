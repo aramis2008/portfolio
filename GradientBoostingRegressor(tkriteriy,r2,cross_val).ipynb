{
 "cells": [
  {
   "cell_type": "code",
   "execution_count": 3,
   "metadata": {},
   "outputs": [],
   "source": [
    "import pandas as pd        #Изучение метрики r2 на градиентном бустнге, так же\n",
    "import numpy as np         #изучение тонкостей кросс-валидации с помощью статистического анализа\n",
    "from sklearn.ensemble import GradientBoostingRegressor\n",
    "from sklearn.model_selection import cross_val_score, KFold\n",
    "from sklearn.datasets import load_boston\n",
    "from scipy.stats import ttest_rel\n",
    "\n",
    "X, y = load_boston(return_X_y=True)\n",
    "X = pd.DataFrame(X)\n",
    "y = pd.DataFrame(y)\n",
    "score=cross_val_score(estimator=GradientBoostingRegressor(n_estimators=250, random_state=241, learning_rate=0.2),\n",
    "                X=X, y=y,\n",
    "                cv=5, scoring='r2')"
   ]
  },
  {
   "cell_type": "code",
   "execution_count": 4,
   "metadata": {},
   "outputs": [
    {
     "data": {
      "text/plain": [
       "array([0.7799348 , 0.79681537, 0.73018481, 0.55871139, 0.41887288])"
      ]
     },
     "execution_count": 4,
     "metadata": {},
     "output_type": "execute_result"
    }
   ],
   "source": [
    "score #большой разброс из-за метрики r2"
   ]
  },
  {
   "cell_type": "code",
   "execution_count": 5,
   "metadata": {},
   "outputs": [
    {
     "data": {
      "text/plain": [
       "array([0.82590011, 0.92976627, 0.80812382, 0.83730574, 0.93583897,\n",
       "       0.90839145, 0.81842459, 0.91601758, 0.82893207, 0.90281831,\n",
       "       0.89609427, 0.91914155, 0.90071309, 0.82391955, 0.9101657 ,\n",
       "       0.92721173, 0.79699767, 0.91897091, 0.73588716, 0.86077252,\n",
       "       0.87589488, 0.89671602, 0.88083   , 0.88095984, 0.87675422,\n",
       "       0.88768647, 0.91905804, 0.9104647 , 0.8967642 , 0.85737609,\n",
       "       0.87540883, 0.9092444 , 0.90097911, 0.82444218, 0.895729  ,\n",
       "       0.83295612, 0.90999611, 0.87377773, 0.91776035, 0.92658613,\n",
       "       0.74309003, 0.91006938, 0.92696344, 0.8758435 , 0.76156283,\n",
       "       0.8984037 , 0.89720529, 0.87698397, 0.84078217, 0.88633708])"
      ]
     },
     "execution_count": 5,
     "metadata": {},
     "output_type": "execute_result"
    }
   ],
   "source": [
    "scores = np.array([])\n",
    "for i in range(10):\n",
    "    fold = KFold(n_splits=5, shuffle=True, random_state=i)\n",
    "    scores_on_this_split = cross_val_score(\n",
    "            estimator=GradientBoostingRegressor(n_estimators=250, random_state=241, learning_rate=0.2),\n",
    "            X=X, y=y,\n",
    "            cv=fold, scoring='r2')\n",
    "    scores = np.append(scores, scores_on_this_split)\n",
    "scores"
   ]
  },
  {
   "cell_type": "code",
   "execution_count": 8,
   "metadata": {},
   "outputs": [],
   "source": [
    "scores_200_trees = np.array([])\n",
    "scores_50_trees = np.array([])\n",
    "for i in range(10):\n",
    "    fold = KFold(n_splits=5, shuffle=True, random_state=i)\n",
    "    scores_200_trees_on_this_split = cross_val_score(\n",
    "                                            estimator=GradientBoostingRegressor(n_estimators=200,  random_state=1),\n",
    "                                            X=X, y=y,\n",
    "                                            cv=fold, scoring='r2')\n",
    "    scores_200_trees = np.append(scores_200_trees,\n",
    "                                 scores_200_trees_on_this_split)\n",
    "    scores_50_trees_on_this_split = cross_val_score(# надо попробовать сравнить с catboost\n",
    "                                            estimator=GradientBoostingRegressor(n_estimators=50, random_state=1),\n",
    "                                            X=X, y=y,\n",
    "                                            cv=fold, scoring='r2')\n",
    "    scores_50_trees = np.append(scores_50_trees,\n",
    "                                 scores_50_trees_on_this_split)"
   ]
  },
  {
   "cell_type": "code",
   "execution_count": 9,
   "metadata": {},
   "outputs": [
    {
     "data": {
      "text/plain": [
       "Ttest_relResult(statistic=7.1874999102942505, pvalue=3.4003572884713576e-09)"
      ]
     },
     "execution_count": 9,
     "metadata": {},
     "output_type": "execute_result"
    }
   ],
   "source": [
    "ttest_rel(scores_200_trees, scores_50_trees) #200 деревьев лучше, pvalue <0.005 and stat. большой"
   ]
  },
  {
   "cell_type": "code",
   "execution_count": 11,
   "metadata": {},
   "outputs": [
    {
     "name": "stdout",
     "output_type": "stream",
     "text": [
      "Populating the interactive namespace from numpy and matplotlib\n"
     ]
    },
    {
     "data": {
      "text/plain": [
       "Text(0,0.5,'t-statistic')"
      ]
     },
     "execution_count": 11,
     "metadata": {},
     "output_type": "execute_result"
    },
    {
     "data": {
      "image/png": "[encoded data removed]",
      "text/plain": [
       "<Figure size 432x288 with 1 Axes>"
      ]
     },
     "metadata": {
      "needs_background": "light"
     },
     "output_type": "display_data"
    }
   ],
   "source": [
    "%pylab inline\n",
    "t_stats = []\n",
    "n_trees = []\n",
    "for j in range(140, 200):\n",
    "    current_score = np.array([])\n",
    "    for i in range(10):\n",
    "        fold = KFold(n_splits=5, shuffle=True, random_state=i)\n",
    "        scores_on_this_split = cross_val_score(\n",
    "                                      estimator=GradientBoostingRegressor(n_estimators= j,  random_state=1),\n",
    "                                      X=X, y=y,\n",
    "                                      cv=fold, scoring='r2')\n",
    "        current_score = np.append(current_score,\n",
    "                                  scores_on_this_split)\n",
    "    t_stat, p_value = ttest_rel(current_score, scores_200_trees)\n",
    "    t_stats.append(t_stat)\n",
    "    n_trees.append(j)\n",
    "plt.plot(n_trees, t_stats)# все хуже\n",
    "plt.xlabel('n_estimators')#чем больше деревьев тем чувствительнее к выбросам\n",
    "plt.ylabel('t-statistic')"
   ]
  },
  {
   "cell_type": "code",
   "execution_count": 18,
   "metadata": {},
   "outputs": [
    {
     "data": {
      "text/plain": [
       "0.49992210526315806"
      ]
     },
     "execution_count": 18,
     "metadata": {},
     "output_type": "execute_result"
    }
   ],
   "source": [
    "from sklearn.metrics import r2_score\n",
    "r2_score(\n",
    "    [1,   2,    3,   4,   5,   11],#чем больше расстояние между объектамми то \n",
    "    [1.1, 1.96, 3.1, 4.5, 4.8, 5.3]#тем больше будет прирост качества на единицу приближения\n",
    ")"
   ]
  },
  {
   "cell_type": "code",
   "execution_count": 74,
   "metadata": {},
   "outputs": [
    {
     "name": "stdout",
     "output_type": "stream",
     "text": [
      "Outliers fraction in train =  0.0335968379447\n"
     ]
    }
   ],
   "source": [
    "from sklearn.model_selection import cross_val_predict\n",
    "\n",
    "base_estimator = GradientBoostingRegressor(n_estimators= 200,  random_state=1)\n",
    "pred_train = cross_val_predict(estimator=base_estimator, X=X, y=y, cv=5)\n",
    "abs_train_error = np.absolute(y.T.values - pred_train)\n",
    "outlier_mask = (abs_train_error > 10)                  #если примем что ошибка больше 10 выброс то\n",
    "                                                    #3.4 процента будт выбросами\n",
    "print 'Outliers fraction in train = ',\\\n",
    "float(y[outlier_mask.T].shape[0]) / y.values.shape[0]"
   ]
  },
  {
   "cell_type": "code",
   "execution_count": null,
   "metadata": {},
   "outputs": [],
   "source": [
    "#если примем что ошибка больше 10 выброс то\n",
    "#3.4 процента будт выбросами"
   ]
  }
 ],
 "metadata": {
  "kernelspec": {
   "display_name": "Python 3",
   "language": "python",
   "name": "python3"
  },
  "language_info": {
   "codemirror_mode": {
    "name": "ipython",
    "version": 3
   },
   "file_extension": ".py",
   "mimetype": "text/x-python",
   "name": "python",
   "nbconvert_exporter": "python",
   "pygments_lexer": "ipython3",
   "version": "3.8.3"
  }
 },
 "nbformat": 4,
 "nbformat_minor": 2
}
