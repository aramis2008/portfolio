{
 "cells": [
  {
   "cell_type": "code",
   "execution_count": null,
   "metadata": {},
   "outputs": [],
   "source": [
    "from sklearn.feature_extraction import DictVectorizer      #Использование алгоритма мешка слов\n",
    "import pandas                                              #обучение на линейной гребневой регрессии\n",
    "from sklearn.linear_model import Ridge\n",
    "from sklearn.feature_extraction.text import TfidfVectorizer\n",
    "from scipy.sparse import hstack\n",
    "\n",
    "train = pandas.read_csv('C:/Users/arami/Documents/salary-train.csv')\n",
    "test= pandas.read_csv('C:/Users/Arami/Documents/salary-test.csv')\n",
    "train['FullDescription'] = train['FullDescription'].str.lower()\n",
    "test['FullDescription'] = test['FullDescription'].str.lower()\n",
    "train['FullDescription'] = train['FullDescription'].replace('[^a-zA-Z0-9]', ' ', regex=True)\n",
    "test['FullDescription'] = test['FullDescription'].replace('[^a-zA-Z0-9]', ' ', regex=True)\n",
    "\n",
    "\n",
    "td_if=TfidfVectorizer(min_df=5)#оставляет слова которые встречалиь хотя бы 5 раз\n",
    "X=td_if.fit_transform(train['FullDescription'])\n",
    "X_test=td_if.transform(test['FullDescription'])\n",
    "train['LocationNormalized'].fillna('nan',inplace=True)\n",
    "train['ContractTime'].fillna('nan',inplace=True)\n",
    "test['LocationNormalized'].fillna('nan',inplace=True)\n",
    "test['ContractTime'].fillna('nan',inplace=True)\n",
    "enc=DictVectorizer()\n",
    "X_train_categ=enc.fit_transform(train[['LocationNormalized','ContractTime']].to_dict('records'))\n",
    "X_test_categ=enc.transform(test[['LocationNormalized','ContractTime']].to_dict('records'))\n",
    "Y=hstack([X,X_train_categ])\n",
    "Y_test=hstack([X_test,X_test_categ])\n",
    "clf=Ridge(alpha=1, random_state = 241)\n",
    "clf.fit(Y,train['SalaryNormalized'])\n",
    "clf.predict(Y_test)"
   ]
  }
 ],
 "metadata": {
  "kernelspec": {
   "display_name": "Python 3",
   "language": "python",
   "name": "python3"
  },
  "language_info": {
   "codemirror_mode": {
    "name": "ipython",
    "version": 3
   },
   "file_extension": ".py",
   "mimetype": "text/x-python",
   "name": "python",
   "nbconvert_exporter": "python",
   "pygments_lexer": "ipython3",
   "version": "3.8.3"
  }
 },
 "nbformat": 4,
 "nbformat_minor": 2
}
