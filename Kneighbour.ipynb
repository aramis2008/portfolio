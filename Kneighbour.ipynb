{
 "cells": [
  {
   "cell_type": "code",
   "execution_count": 3,
   "metadata": {},
   "outputs": [
    {
     "name": "stdout",
     "output_type": "stream",
     "text": [
      "29 0.9776190476190475\n"
     ]
    }
   ],
   "source": [
    "import pandas                 #изучение метода к-ближайших соседей\n",
    "import numpy as np\n",
    "import sklearn\n",
    "from sklearn.model_selection import cross_val_score\n",
    "from sklearn.neighbors import KNeighborsClassifier\n",
    "  \n",
    "data = pandas.read_csv('C:/Users/arami/Documents/MyDatabase/wine.data', header=None)\n",
    "X = data.iloc[:,1:]\n",
    "y = data.iloc[:,0]\n",
    "X_scale = sklearn.preprocessing.scale(X)\n",
    "\n",
    "kf = sklearn.model_selection.KFold(n_splits=5, shuffle=True, random_state=42)\n",
    " \n",
    "score_max = 0\n",
    "k_best = 0\n",
    "\n",
    "for k in range(1, 51):\n",
    "    knr = KNeighborsClassifier(n_neighbors=k)\n",
    "    knr.fit(X, y);\n",
    "    array = cross_val_score(estimator=knr, X=X_scale, y=y, cv=kf, scoring='accuracy')\n",
    "    score = array.mean()\n",
    "    if score > score_max:\n",
    "        score_max = score\n",
    "        k_best = k\n",
    "        \n",
    "print(k_best, score_max) #без масштабирования (1, 0.7304761904761905)"
   ]
  }
 ],
 "metadata": {
  "kernelspec": {
   "display_name": "Python 3",
   "language": "python",
   "name": "python3"
  },
  "language_info": {
   "codemirror_mode": {
    "name": "ipython",
    "version": 3
   },
   "file_extension": ".py",
   "mimetype": "text/x-python",
   "name": "python",
   "nbconvert_exporter": "python",
   "pygments_lexer": "ipython3",
   "version": "3.8.3"
  }
 },
 "nbformat": 4,
 "nbformat_minor": 2
}
